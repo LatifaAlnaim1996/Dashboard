{
  "nbformat": 4,
  "nbformat_minor": 0,
  "metadata": {
    "colab": {
      "name": "DASH_PYTHON.ipynb",
      "provenance": [],
      "authorship_tag": "ABX9TyOt+/4vua2wE+mjmRr5aIkz",
      "include_colab_link": true
    },
    "kernelspec": {
      "name": "python3",
      "display_name": "Python 3"
    }
  },
  "cells": [
    {
      "cell_type": "markdown",
      "metadata": {
        "id": "view-in-github",
        "colab_type": "text"
      },
      "source": [
        "<a href=\"https://colab.research.google.com/github/LatifaAlnaim1996/Dashboard/blob/main/DASH_PYTHON.ipynb\" target=\"_parent\"><img src=\"https://colab.research.google.com/assets/colab-badge.svg\" alt=\"Open In Colab\"/></a>"
      ]
    },
    {
      "cell_type": "markdown",
      "metadata": {
        "id": "FqztPTZj9TLo"
      },
      "source": [
        "## DASH Plotly  Assighnment1::\r\n"
      ]
    },
    {
      "cell_type": "code",
      "metadata": {
        "colab": {
          "base_uri": "https://localhost:8080/",
          "height": 367
        },
        "id": "QHLtrghc-NmP",
        "outputId": "a1e59a62-6a61-4d60-cb5b-1445f1d42fdb"
      },
      "source": [
        "import seaborn as sns\r\n",
        "import pandas as pd\r\n",
        "import dash\r\n",
        "import dash_html_components as html\r\n",
        "import dash_core_components as dcc\r\n",
        "import plotly.express as px\r\n",
        "df = pd.read_csv('https://raw.githubusercontent.com/daniel-dc-cd/data_science/master/module_3_Python/data/titanic.csv')\r\n",
        "f= df.groupby(df['Pclass']).sum()\r\n",
        "df1 = df\r\n",
        "df1.loc[df1['Age'] <=13, 'Category'] = 'Child'\r\n",
        "df1.loc[df1['Age'] >13, 'Category'] = 'Adult'\r\n",
        "df1.loc[df1['Age'].isna()==True, 'Category'] = 'Null'\r\n",
        "\r\n",
        "app = dash.Dash()\r\n",
        "app.layout = html.Div([\r\n",
        "html.Div([\r\n",
        "html.Div([\r\n",
        "html.H1(\"Titanic Dashboard\"),\r\n",
        "html.H3(\"Sex: Survived\"),\r\n",
        "dcc.Graph(id=\"g1\", figure= px.bar(df, x=\"Sex\", y=\"Survived\", color=\"Sex\"))\r\n",
        "], className=\"six columns\"),\r\n",
        "\r\n",
        "    html.Div([\r\n",
        "        html.H3('Age Vs Fare'),\r\n",
        "        dcc.Graph(id='g2', figure=px.scatter(df, x=\"Age\", y=\"Fare\", color=\"Age\", hover_name=\"Fare\",\r\n",
        "                 log_x=True, size_max=60))\r\n",
        "    ], className=\"six columns\"),\r\n",
        "   \r\n",
        "\r\n",
        "    html.Div([\r\n",
        "        html.H3('Number of passenger in each class'),\r\n",
        "        dcc.Graph(id='g3', figure=px.bar(f, x=f.index, y=\"PassengerId\", color= f.index))\r\n",
        "    ], className=\"six columns\"),\r\n",
        "    \r\n",
        "     html.Div([\r\n",
        "        html.H3('Age Category: Survived'),\r\n",
        "        dcc.Graph(id='g4', figure=px.bar(df1, x=\"Category\", y=\"Survived\", color=\"Category\"))\r\n",
        "    ], className=\"six columns\"),\r\n",
        "    \r\n",
        "\r\n",
        "#      html.Div([\r\n",
        "#         html.H3('Age Category: Survived vs Dead'),\r\n",
        "#         dcc.Graph(id='g5', figure=px.bar(df1, x=\"Category\", y=df1[df1['Survived']==0].Survived))\r\n",
        "#     ], className=\"six columns\"),\r\n",
        "\r\n",
        "        \r\n",
        "], className=\"row\")\r\n",
        "])\r\n",
        "\r\n",
        "app.css.append_css({\r\n",
        "\"external_url\": \"https://codepen.io/chriddyp/pen/bWLwgP.css 304\"\r\n",
        "})\r\n",
        "\r\n",
        "if __name__ == '__main__':\r\n",
        "    app.run_server(debug=True)"
      ],
      "execution_count": null,
      "outputs": [
        {
          "output_type": "error",
          "ename": "ModuleNotFoundError",
          "evalue": "ignored",
          "traceback": [
            "\u001b[0;31m---------------------------------------------------------------------------\u001b[0m",
            "\u001b[0;31mModuleNotFoundError\u001b[0m                       Traceback (most recent call last)",
            "\u001b[0;32m<ipython-input-8-8f27331f665c>\u001b[0m in \u001b[0;36m<module>\u001b[0;34m()\u001b[0m\n\u001b[1;32m      1\u001b[0m \u001b[0;32mimport\u001b[0m \u001b[0mseaborn\u001b[0m \u001b[0;32mas\u001b[0m \u001b[0msns\u001b[0m\u001b[0;34m\u001b[0m\u001b[0;34m\u001b[0m\u001b[0m\n\u001b[1;32m      2\u001b[0m \u001b[0;32mimport\u001b[0m \u001b[0mpandas\u001b[0m \u001b[0;32mas\u001b[0m \u001b[0mpd\u001b[0m\u001b[0;34m\u001b[0m\u001b[0;34m\u001b[0m\u001b[0m\n\u001b[0;32m----> 3\u001b[0;31m \u001b[0;32mimport\u001b[0m \u001b[0mdash\u001b[0m\u001b[0;34m\u001b[0m\u001b[0;34m\u001b[0m\u001b[0m\n\u001b[0m\u001b[1;32m      4\u001b[0m \u001b[0;32mimport\u001b[0m \u001b[0mdash_html_components\u001b[0m \u001b[0;32mas\u001b[0m \u001b[0mhtml\u001b[0m\u001b[0;34m\u001b[0m\u001b[0;34m\u001b[0m\u001b[0m\n\u001b[1;32m      5\u001b[0m \u001b[0;32mimport\u001b[0m \u001b[0mdash_core_components\u001b[0m \u001b[0;32mas\u001b[0m \u001b[0mdcc\u001b[0m\u001b[0;34m\u001b[0m\u001b[0;34m\u001b[0m\u001b[0m\n",
            "\u001b[0;31mModuleNotFoundError\u001b[0m: No module named 'dash'",
            "",
            "\u001b[0;31m---------------------------------------------------------------------------\u001b[0;32m\nNOTE: If your import is failing due to a missing package, you can\nmanually install dependencies using either !pip or !apt.\n\nTo view examples of installing some common dependencies, click the\n\"Open Examples\" button below.\n\u001b[0;31m---------------------------------------------------------------------------\u001b[0m\n"
          ]
        }
      ]
    }
  ]
}